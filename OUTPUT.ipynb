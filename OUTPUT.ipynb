{
 "cells": [
  {
   "cell_type": "code",
   "execution_count": 1,
   "metadata": {},
   "outputs": [],
   "source": [
    "#import library packages\n",
    "import pandas as p\n",
    "import matplotlib.pyplot as plt\n",
    "import seaborn as s\n",
    "import numpy as n"
   ]
  },
  {
   "cell_type": "code",
   "execution_count": 2,
   "metadata": {},
   "outputs": [],
   "source": [
    "import warnings\n",
    "warnings.filterwarnings('ignore')"
   ]
  },
  {
   "cell_type": "code",
   "execution_count": 3,
   "metadata": {},
   "outputs": [
    {
     "name": "stdout",
     "output_type": "stream",
     "text": [
      "(301, 42)\n"
     ]
    }
   ],
   "source": [
    "# feature names\n",
    "features = [\"duration\", \"protocol_type\", \"service\", \"flag\", \"src_bytes\", \"dst_bytes\", \"land\", \"Wrong_fragment\", \"Urgent\", \"hot\", \"num_failed_login\", \"logged_in\", \"num_compromised\", \"root_shell\", \"su_attempted\", \"num_root\", \"num_file_creations\", \"num_shells\", \"num_access_files\", \"num_outbound_cmds\", \"is_host_login\", \"is_guest_login\", \"count\", \"srv_count\", \"serror_rate\", \"srv_serror_rate\", \"rerror_rate\", \"srv_rerror_rate\", \"same_srv_rate\", \"diff_srv_rate\", \"srv_diff_host_rate\", \"dst_host_count\", \"dst_host_srv_count\", \"dst_host_same_srv_rate\", \"dst_host_diff_ srv_rate\", \"dst_host_same_src_port_rate\", \"dst_host_srv_diff_host _rate\", \"dst_host_serror_rate\", \"dst_host_srv_serror_rate\", \"dst_host_rerror_rate\", \"dst_host_srv_rerror_rate\",\"class\"] \n",
    "df = p.read_csv(\"demo3.csv\", names = features)\n",
    "print(df.shape)"
   ]
  },
  {
   "cell_type": "code",
   "execution_count": 4,
   "metadata": {},
   "outputs": [
    {
     "data": {
      "text/html": [
       "<div>\n",
       "<style scoped>\n",
       "    .dataframe tbody tr th:only-of-type {\n",
       "        vertical-align: middle;\n",
       "    }\n",
       "\n",
       "    .dataframe tbody tr th {\n",
       "        vertical-align: top;\n",
       "    }\n",
       "\n",
       "    .dataframe thead th {\n",
       "        text-align: right;\n",
       "    }\n",
       "</style>\n",
       "<table border=\"1\" class=\"dataframe\">\n",
       "  <thead>\n",
       "    <tr style=\"text-align: right;\">\n",
       "      <th></th>\n",
       "      <th>duration</th>\n",
       "      <th>protocol_type</th>\n",
       "      <th>service</th>\n",
       "      <th>flag</th>\n",
       "      <th>src_bytes</th>\n",
       "      <th>dst_bytes</th>\n",
       "      <th>land</th>\n",
       "      <th>Wrong_fragment</th>\n",
       "      <th>Urgent</th>\n",
       "      <th>hot</th>\n",
       "      <th>...</th>\n",
       "      <th>dst_host_srv_count</th>\n",
       "      <th>dst_host_same_srv_rate</th>\n",
       "      <th>dst_host_diff_ srv_rate</th>\n",
       "      <th>dst_host_same_src_port_rate</th>\n",
       "      <th>dst_host_srv_diff_host _rate</th>\n",
       "      <th>dst_host_serror_rate</th>\n",
       "      <th>dst_host_srv_serror_rate</th>\n",
       "      <th>dst_host_rerror_rate</th>\n",
       "      <th>dst_host_srv_rerror_rate</th>\n",
       "      <th>class</th>\n",
       "    </tr>\n",
       "  </thead>\n",
       "  <tbody>\n",
       "    <tr>\n",
       "      <th>0</th>\n",
       "      <td>0</td>\n",
       "      <td>tcp</td>\n",
       "      <td>ecr_i</td>\n",
       "      <td>SF</td>\n",
       "      <td>1032</td>\n",
       "      <td>0</td>\n",
       "      <td>0</td>\n",
       "      <td>0</td>\n",
       "      <td>0</td>\n",
       "      <td>0</td>\n",
       "      <td>...</td>\n",
       "      <td>255</td>\n",
       "      <td>1.0</td>\n",
       "      <td>0.0</td>\n",
       "      <td>1.0</td>\n",
       "      <td>0.0</td>\n",
       "      <td>0.0</td>\n",
       "      <td>0.0</td>\n",
       "      <td>0.0</td>\n",
       "      <td>0.0</td>\n",
       "      <td>smurf</td>\n",
       "    </tr>\n",
       "    <tr>\n",
       "      <th>1</th>\n",
       "      <td>0</td>\n",
       "      <td>tcp</td>\n",
       "      <td>ecr_i</td>\n",
       "      <td>SF</td>\n",
       "      <td>1032</td>\n",
       "      <td>0</td>\n",
       "      <td>0</td>\n",
       "      <td>0</td>\n",
       "      <td>0</td>\n",
       "      <td>0</td>\n",
       "      <td>...</td>\n",
       "      <td>255</td>\n",
       "      <td>1.0</td>\n",
       "      <td>0.0</td>\n",
       "      <td>1.0</td>\n",
       "      <td>0.0</td>\n",
       "      <td>0.0</td>\n",
       "      <td>0.0</td>\n",
       "      <td>0.0</td>\n",
       "      <td>0.0</td>\n",
       "      <td>smurf</td>\n",
       "    </tr>\n",
       "    <tr>\n",
       "      <th>2</th>\n",
       "      <td>0</td>\n",
       "      <td>tcp</td>\n",
       "      <td>ecr_i</td>\n",
       "      <td>SF</td>\n",
       "      <td>1032</td>\n",
       "      <td>0</td>\n",
       "      <td>0</td>\n",
       "      <td>0</td>\n",
       "      <td>0</td>\n",
       "      <td>0</td>\n",
       "      <td>...</td>\n",
       "      <td>255</td>\n",
       "      <td>1.0</td>\n",
       "      <td>0.0</td>\n",
       "      <td>1.0</td>\n",
       "      <td>0.0</td>\n",
       "      <td>0.0</td>\n",
       "      <td>0.0</td>\n",
       "      <td>0.0</td>\n",
       "      <td>0.0</td>\n",
       "      <td>smurf</td>\n",
       "    </tr>\n",
       "    <tr>\n",
       "      <th>3</th>\n",
       "      <td>0</td>\n",
       "      <td>tcp</td>\n",
       "      <td>ecr_i</td>\n",
       "      <td>SF</td>\n",
       "      <td>1032</td>\n",
       "      <td>0</td>\n",
       "      <td>0</td>\n",
       "      <td>0</td>\n",
       "      <td>0</td>\n",
       "      <td>0</td>\n",
       "      <td>...</td>\n",
       "      <td>255</td>\n",
       "      <td>1.0</td>\n",
       "      <td>0.0</td>\n",
       "      <td>1.0</td>\n",
       "      <td>0.0</td>\n",
       "      <td>0.0</td>\n",
       "      <td>0.0</td>\n",
       "      <td>0.0</td>\n",
       "      <td>0.0</td>\n",
       "      <td>smurf</td>\n",
       "    </tr>\n",
       "    <tr>\n",
       "      <th>4</th>\n",
       "      <td>0</td>\n",
       "      <td>tcp</td>\n",
       "      <td>ecr_i</td>\n",
       "      <td>SF</td>\n",
       "      <td>1032</td>\n",
       "      <td>0</td>\n",
       "      <td>0</td>\n",
       "      <td>0</td>\n",
       "      <td>0</td>\n",
       "      <td>0</td>\n",
       "      <td>...</td>\n",
       "      <td>255</td>\n",
       "      <td>1.0</td>\n",
       "      <td>0.0</td>\n",
       "      <td>1.0</td>\n",
       "      <td>0.0</td>\n",
       "      <td>0.0</td>\n",
       "      <td>0.0</td>\n",
       "      <td>0.0</td>\n",
       "      <td>0.0</td>\n",
       "      <td>smurf</td>\n",
       "    </tr>\n",
       "  </tbody>\n",
       "</table>\n",
       "<p>5 rows × 42 columns</p>\n",
       "</div>"
      ],
      "text/plain": [
       "   duration protocol_type service flag  src_bytes  dst_bytes  land  \\\n",
       "0         0           tcp   ecr_i   SF       1032          0     0   \n",
       "1         0           tcp   ecr_i   SF       1032          0     0   \n",
       "2         0           tcp   ecr_i   SF       1032          0     0   \n",
       "3         0           tcp   ecr_i   SF       1032          0     0   \n",
       "4         0           tcp   ecr_i   SF       1032          0     0   \n",
       "\n",
       "   Wrong_fragment  Urgent  hot  ...  dst_host_srv_count  \\\n",
       "0               0       0    0  ...                 255   \n",
       "1               0       0    0  ...                 255   \n",
       "2               0       0    0  ...                 255   \n",
       "3               0       0    0  ...                 255   \n",
       "4               0       0    0  ...                 255   \n",
       "\n",
       "   dst_host_same_srv_rate  dst_host_diff_ srv_rate  \\\n",
       "0                     1.0                      0.0   \n",
       "1                     1.0                      0.0   \n",
       "2                     1.0                      0.0   \n",
       "3                     1.0                      0.0   \n",
       "4                     1.0                      0.0   \n",
       "\n",
       "   dst_host_same_src_port_rate  dst_host_srv_diff_host _rate  \\\n",
       "0                          1.0                           0.0   \n",
       "1                          1.0                           0.0   \n",
       "2                          1.0                           0.0   \n",
       "3                          1.0                           0.0   \n",
       "4                          1.0                           0.0   \n",
       "\n",
       "   dst_host_serror_rate  dst_host_srv_serror_rate  dst_host_rerror_rate  \\\n",
       "0                   0.0                       0.0                   0.0   \n",
       "1                   0.0                       0.0                   0.0   \n",
       "2                   0.0                       0.0                   0.0   \n",
       "3                   0.0                       0.0                   0.0   \n",
       "4                   0.0                       0.0                   0.0   \n",
       "\n",
       "   dst_host_srv_rerror_rate  class  \n",
       "0                       0.0  smurf  \n",
       "1                       0.0  smurf  \n",
       "2                       0.0  smurf  \n",
       "3                       0.0  smurf  \n",
       "4                       0.0  smurf  \n",
       "\n",
       "[5 rows x 42 columns]"
      ]
     },
     "execution_count": 4,
     "metadata": {},
     "output_type": "execute_result"
    }
   ],
   "source": [
    "df.head()"
   ]
  },
  {
   "cell_type": "code",
   "execution_count": 5,
   "metadata": {},
   "outputs": [
    {
     "data": {
      "text/plain": [
       "array(['smurf', 'perl', 'xlock', 'xsnoop', 'xterm', 'satan', 'neptune',\n",
       "       'nmap', 'back', 'apache2', 'multihop', 'worm', 'buffer overflow',\n",
       "       'sql attack', 'saint', 'Nmap', 'ipsweep'], dtype=object)"
      ]
     },
     "execution_count": 5,
     "metadata": {},
     "output_type": "execute_result"
    }
   ],
   "source": [
    "df['class'].unique()"
   ]
  },
  {
   "cell_type": "code",
   "execution_count": 6,
   "metadata": {},
   "outputs": [
    {
     "data": {
      "text/html": [
       "<div>\n",
       "<style scoped>\n",
       "    .dataframe tbody tr th:only-of-type {\n",
       "        vertical-align: middle;\n",
       "    }\n",
       "\n",
       "    .dataframe tbody tr th {\n",
       "        vertical-align: top;\n",
       "    }\n",
       "\n",
       "    .dataframe thead th {\n",
       "        text-align: right;\n",
       "    }\n",
       "</style>\n",
       "<table border=\"1\" class=\"dataframe\">\n",
       "  <thead>\n",
       "    <tr style=\"text-align: right;\">\n",
       "      <th></th>\n",
       "      <th>duration</th>\n",
       "      <th>protocol_type</th>\n",
       "      <th>service</th>\n",
       "      <th>flag</th>\n",
       "      <th>src_bytes</th>\n",
       "      <th>dst_bytes</th>\n",
       "      <th>land</th>\n",
       "      <th>Wrong_fragment</th>\n",
       "      <th>Urgent</th>\n",
       "      <th>hot</th>\n",
       "      <th>...</th>\n",
       "      <th>dst_host_srv_count</th>\n",
       "      <th>dst_host_same_srv_rate</th>\n",
       "      <th>dst_host_diff_ srv_rate</th>\n",
       "      <th>dst_host_same_src_port_rate</th>\n",
       "      <th>dst_host_srv_diff_host _rate</th>\n",
       "      <th>dst_host_serror_rate</th>\n",
       "      <th>dst_host_srv_serror_rate</th>\n",
       "      <th>dst_host_rerror_rate</th>\n",
       "      <th>dst_host_srv_rerror_rate</th>\n",
       "      <th>class</th>\n",
       "    </tr>\n",
       "  </thead>\n",
       "  <tbody>\n",
       "    <tr>\n",
       "      <th>0</th>\n",
       "      <td>0</td>\n",
       "      <td>tcp</td>\n",
       "      <td>ecr_i</td>\n",
       "      <td>SF</td>\n",
       "      <td>1032</td>\n",
       "      <td>0</td>\n",
       "      <td>0</td>\n",
       "      <td>0</td>\n",
       "      <td>0</td>\n",
       "      <td>0</td>\n",
       "      <td>...</td>\n",
       "      <td>255</td>\n",
       "      <td>1.0</td>\n",
       "      <td>0.0</td>\n",
       "      <td>1.0</td>\n",
       "      <td>0.0</td>\n",
       "      <td>0.0</td>\n",
       "      <td>0.0</td>\n",
       "      <td>0.0</td>\n",
       "      <td>0.0</td>\n",
       "      <td>smurf</td>\n",
       "    </tr>\n",
       "    <tr>\n",
       "      <th>1</th>\n",
       "      <td>0</td>\n",
       "      <td>tcp</td>\n",
       "      <td>ecr_i</td>\n",
       "      <td>SF</td>\n",
       "      <td>1032</td>\n",
       "      <td>0</td>\n",
       "      <td>0</td>\n",
       "      <td>0</td>\n",
       "      <td>0</td>\n",
       "      <td>0</td>\n",
       "      <td>...</td>\n",
       "      <td>255</td>\n",
       "      <td>1.0</td>\n",
       "      <td>0.0</td>\n",
       "      <td>1.0</td>\n",
       "      <td>0.0</td>\n",
       "      <td>0.0</td>\n",
       "      <td>0.0</td>\n",
       "      <td>0.0</td>\n",
       "      <td>0.0</td>\n",
       "      <td>smurf</td>\n",
       "    </tr>\n",
       "    <tr>\n",
       "      <th>2</th>\n",
       "      <td>0</td>\n",
       "      <td>tcp</td>\n",
       "      <td>ecr_i</td>\n",
       "      <td>SF</td>\n",
       "      <td>1032</td>\n",
       "      <td>0</td>\n",
       "      <td>0</td>\n",
       "      <td>0</td>\n",
       "      <td>0</td>\n",
       "      <td>0</td>\n",
       "      <td>...</td>\n",
       "      <td>255</td>\n",
       "      <td>1.0</td>\n",
       "      <td>0.0</td>\n",
       "      <td>1.0</td>\n",
       "      <td>0.0</td>\n",
       "      <td>0.0</td>\n",
       "      <td>0.0</td>\n",
       "      <td>0.0</td>\n",
       "      <td>0.0</td>\n",
       "      <td>smurf</td>\n",
       "    </tr>\n",
       "    <tr>\n",
       "      <th>3</th>\n",
       "      <td>0</td>\n",
       "      <td>tcp</td>\n",
       "      <td>ecr_i</td>\n",
       "      <td>SF</td>\n",
       "      <td>1032</td>\n",
       "      <td>0</td>\n",
       "      <td>0</td>\n",
       "      <td>0</td>\n",
       "      <td>0</td>\n",
       "      <td>0</td>\n",
       "      <td>...</td>\n",
       "      <td>255</td>\n",
       "      <td>1.0</td>\n",
       "      <td>0.0</td>\n",
       "      <td>1.0</td>\n",
       "      <td>0.0</td>\n",
       "      <td>0.0</td>\n",
       "      <td>0.0</td>\n",
       "      <td>0.0</td>\n",
       "      <td>0.0</td>\n",
       "      <td>smurf</td>\n",
       "    </tr>\n",
       "    <tr>\n",
       "      <th>4</th>\n",
       "      <td>0</td>\n",
       "      <td>tcp</td>\n",
       "      <td>ecr_i</td>\n",
       "      <td>SF</td>\n",
       "      <td>1032</td>\n",
       "      <td>0</td>\n",
       "      <td>0</td>\n",
       "      <td>0</td>\n",
       "      <td>0</td>\n",
       "      <td>0</td>\n",
       "      <td>...</td>\n",
       "      <td>255</td>\n",
       "      <td>1.0</td>\n",
       "      <td>0.0</td>\n",
       "      <td>1.0</td>\n",
       "      <td>0.0</td>\n",
       "      <td>0.0</td>\n",
       "      <td>0.0</td>\n",
       "      <td>0.0</td>\n",
       "      <td>0.0</td>\n",
       "      <td>smurf</td>\n",
       "    </tr>\n",
       "  </tbody>\n",
       "</table>\n",
       "<p>5 rows × 42 columns</p>\n",
       "</div>"
      ],
      "text/plain": [
       "   duration protocol_type service flag  src_bytes  dst_bytes  land  \\\n",
       "0         0           tcp   ecr_i   SF       1032          0     0   \n",
       "1         0           tcp   ecr_i   SF       1032          0     0   \n",
       "2         0           tcp   ecr_i   SF       1032          0     0   \n",
       "3         0           tcp   ecr_i   SF       1032          0     0   \n",
       "4         0           tcp   ecr_i   SF       1032          0     0   \n",
       "\n",
       "   Wrong_fragment  Urgent  hot  ...  dst_host_srv_count  \\\n",
       "0               0       0    0  ...                 255   \n",
       "1               0       0    0  ...                 255   \n",
       "2               0       0    0  ...                 255   \n",
       "3               0       0    0  ...                 255   \n",
       "4               0       0    0  ...                 255   \n",
       "\n",
       "   dst_host_same_srv_rate  dst_host_diff_ srv_rate  \\\n",
       "0                     1.0                      0.0   \n",
       "1                     1.0                      0.0   \n",
       "2                     1.0                      0.0   \n",
       "3                     1.0                      0.0   \n",
       "4                     1.0                      0.0   \n",
       "\n",
       "   dst_host_same_src_port_rate  dst_host_srv_diff_host _rate  \\\n",
       "0                          1.0                           0.0   \n",
       "1                          1.0                           0.0   \n",
       "2                          1.0                           0.0   \n",
       "3                          1.0                           0.0   \n",
       "4                          1.0                           0.0   \n",
       "\n",
       "   dst_host_serror_rate  dst_host_srv_serror_rate  dst_host_rerror_rate  \\\n",
       "0                   0.0                       0.0                   0.0   \n",
       "1                   0.0                       0.0                   0.0   \n",
       "2                   0.0                       0.0                   0.0   \n",
       "3                   0.0                       0.0                   0.0   \n",
       "4                   0.0                       0.0                   0.0   \n",
       "\n",
       "   dst_host_srv_rerror_rate  class  \n",
       "0                       0.0  smurf  \n",
       "1                       0.0  smurf  \n",
       "2                       0.0  smurf  \n",
       "3                       0.0  smurf  \n",
       "4                       0.0  smurf  \n",
       "\n",
       "[5 rows x 42 columns]"
      ]
     },
     "execution_count": 6,
     "metadata": {},
     "output_type": "execute_result"
    }
   ],
   "source": [
    "df.head()"
   ]
  },
  {
   "cell_type": "code",
   "execution_count": 7,
   "metadata": {},
   "outputs": [],
   "source": [
    "from tkinter import *"
   ]
  },
  {
   "cell_type": "code",
   "execution_count": 8,
   "metadata": {},
   "outputs": [],
   "source": [
    "del df[\"duration\"]\n",
    "del df[\"land\"]\n",
    "del df[\"Urgent\"]\n",
    "del df[\"hot\"]\n",
    "del df[\"num_failed_login\"]\n",
    "del df[\"logged_in\"]\n",
    "del df[\"num_compromised\"]\n",
    "del df[\"root_shell\"]\n",
    "del df[\"is_host_login\"]\n",
    "del df[\"is_guest_login\"]"
   ]
  },
  {
   "cell_type": "code",
   "execution_count": 9,
   "metadata": {},
   "outputs": [],
   "source": [
    "del df['num_root']\n",
    "del df['num_file_creations']\n",
    "del df['num_shells']\n",
    "del df['num_outbound_cmds']\n",
    "del df['count']\n",
    "del df['srv_count']\n",
    "del df['srv_serror_rate']\n",
    "del df['srv_rerror_rate']\n",
    "del df['same_srv_rate']\n",
    "del df['diff_srv_rate']\n",
    "del df['srv_diff_host_rate']\n",
    "del df['dst_host_count']\n",
    "del df['dst_host_srv_count']\n",
    "del df['dst_host_same_srv_rate']\n",
    "del df['dst_host_diff_ srv_rate']\n",
    "del df['dst_host_same_src_port_rate']\n",
    "del df['dst_host_srv_diff_host _rate']\n",
    "del df['dst_host_serror_rate']\n",
    "del df['dst_host_srv_serror_rate']\n",
    "del df['dst_host_rerror_rate']\n",
    "del df['dst_host_srv_rerror_rate']\n",
    "\n",
    "del df['su_attempted']\n",
    "del df['num_access_files']\n"
   ]
  },
  {
   "cell_type": "code",
   "execution_count": 10,
   "metadata": {},
   "outputs": [
    {
     "data": {
      "text/plain": [
       "Index(['protocol_type', 'service', 'flag', 'src_bytes', 'dst_bytes',\n",
       "       'Wrong_fragment', 'serror_rate', 'rerror_rate', 'class'],\n",
       "      dtype='object')"
      ]
     },
     "execution_count": 10,
     "metadata": {},
     "output_type": "execute_result"
    }
   ],
   "source": [
    "df.columns"
   ]
  },
  {
   "cell_type": "code",
   "execution_count": 11,
   "metadata": {},
   "outputs": [
    {
     "data": {
      "text/plain": [
       "array(['tcp', 'icmp', 'udp'], dtype=object)"
      ]
     },
     "execution_count": 11,
     "metadata": {},
     "output_type": "execute_result"
    }
   ],
   "source": [
    "df['protocol_type'].unique()"
   ]
  },
  {
   "cell_type": "code",
   "execution_count": 12,
   "metadata": {},
   "outputs": [],
   "source": [
    "df['UDP'] = df.protocol_type.map({'udp':1, 'tcp':0, 'icmp':0})\n",
    "df['TCP'] = df.protocol_type.map({'udp':0, 'tcp':1, 'icmp':0})\n",
    "df['ICMP'] = df.protocol_type.map({'udp':0, 'tcp':0, 'icmp':1})"
   ]
  },
  {
   "cell_type": "code",
   "execution_count": 13,
   "metadata": {},
   "outputs": [],
   "source": [
    "del df['protocol_type']"
   ]
  },
  {
   "cell_type": "code",
   "execution_count": 14,
   "metadata": {},
   "outputs": [
    {
     "data": {
      "text/plain": [
       "array(['ecr_i', 'http', 'private'], dtype=object)"
      ]
     },
     "execution_count": 14,
     "metadata": {},
     "output_type": "execute_result"
    }
   ],
   "source": [
    "df['service'].unique()"
   ]
  },
  {
   "cell_type": "code",
   "execution_count": 15,
   "metadata": {},
   "outputs": [],
   "source": [
    "df['private'] = df.service.map({'ecr_i':0, 'http':0, 'private':1})\n",
    "\n",
    "df['http'] = df.service.map({'ecr_i':0, 'http':1, 'private':0})\n",
    "\n"
   ]
  },
  {
   "cell_type": "code",
   "execution_count": 16,
   "metadata": {},
   "outputs": [],
   "source": [
    "\n",
    "df['ecr_i'] = df.service.map({'ecr_i':1, 'http':0, 'private':0})\n",
    "\n"
   ]
  },
  {
   "cell_type": "code",
   "execution_count": 17,
   "metadata": {},
   "outputs": [
    {
     "data": {
      "text/plain": [
       "array([0, 1], dtype=int64)"
      ]
     },
     "execution_count": 17,
     "metadata": {},
     "output_type": "execute_result"
    }
   ],
   "source": [
    "df['http'].unique()"
   ]
  },
  {
   "cell_type": "code",
   "execution_count": 18,
   "metadata": {},
   "outputs": [],
   "source": [
    "del df['service']"
   ]
  },
  {
   "cell_type": "code",
   "execution_count": 19,
   "metadata": {},
   "outputs": [
    {
     "data": {
      "text/plain": [
       "array(['SF', 'S0', 'REJ', 'S1'], dtype=object)"
      ]
     },
     "execution_count": 19,
     "metadata": {},
     "output_type": "execute_result"
    }
   ],
   "source": [
    "df['flag'].unique()"
   ]
  },
  {
   "cell_type": "code",
   "execution_count": 20,
   "metadata": {},
   "outputs": [],
   "source": [
    "df['SF'] = df.flag.map({'SF':1, 'S0':0, 'REJ':0, 'S1':0})\n",
    "df['S1'] = df.flag.map({'SF':0, 'S0':0, 'REJ':0, 'S1':1})\n",
    "df['REJ'] = df.flag.map({'SF':0, 'S0':0, 'REJ':1, 'S1':0})\n",
    "df['S0'] = df.flag.map({'SF':0, 'S0':0, 'REJ':0, 'S1':1})"
   ]
  },
  {
   "cell_type": "code",
   "execution_count": 21,
   "metadata": {},
   "outputs": [
    {
     "data": {
      "text/plain": [
       "array([0, 1], dtype=int64)"
      ]
     },
     "execution_count": 21,
     "metadata": {},
     "output_type": "execute_result"
    }
   ],
   "source": [
    "df['S0'].unique()"
   ]
  },
  {
   "cell_type": "code",
   "execution_count": 22,
   "metadata": {},
   "outputs": [],
   "source": [
    "del df['flag']"
   ]
  },
  {
   "cell_type": "code",
   "execution_count": 23,
   "metadata": {},
   "outputs": [
    {
     "data": {
      "text/plain": [
       "Index(['src_bytes', 'dst_bytes', 'Wrong_fragment', 'serror_rate',\n",
       "       'rerror_rate', 'class', 'UDP', 'TCP', 'ICMP', 'private', 'http',\n",
       "       'ecr_i', 'SF', 'S1', 'REJ', 'S0'],\n",
       "      dtype='object')"
      ]
     },
     "execution_count": 23,
     "metadata": {},
     "output_type": "execute_result"
    }
   ],
   "source": [
    "df.columns"
   ]
  },
  {
   "cell_type": "code",
   "execution_count": 24,
   "metadata": {},
   "outputs": [
    {
     "data": {
      "text/plain": [
       "array([1032,  283,  252,    0,  105,  303,   42,   45,  213,  285, 5050,\n",
       "        212,  184,  289,  291,  246,  175,  241,  293,  245,  249,  225,\n",
       "        305, 3894,  320,  162,  206,  353,    1], dtype=int64)"
      ]
     },
     "execution_count": 24,
     "metadata": {},
     "output_type": "execute_result"
    }
   ],
   "source": [
    "df['src_bytes'].unique()"
   ]
  },
  {
   "cell_type": "code",
   "execution_count": 25,
   "metadata": {},
   "outputs": [],
   "source": [
    "df['SRC_BY_BL_50'] = df.src_bytes.map({1032:0,  283:0,  252:0,    0:1,  105:0,  303:0,   42:1,   45:1,  213:0,  285:0, 5050:0,\n",
    "        212:0,  184:0,  289:0,  291:0,  246:0,  175:0,  241:0,  293:0,  245:0,  249:0,  225:0,\n",
    "        305:0, 3894:0,  320:0,  162:0,  206:0,  353:0,    1:1})\n",
    "df['SRC_BY_AB_50'] = df.src_bytes.map({1032:0,  283:0,  252:0,    0:0,  105:1,  303:0,   42:0,   45:0,  213:0,  285:0, 5050:0,\n",
    "        212:1,  184:1,  289:0,  291:0,  246:1,  175:1,  241:1,  293:0,  245:1,  249:1,  225:1,\n",
    "        305:0, 3894:0,  320:0,  162:1,  206:1,  353:0,    1:0})\n",
    "df['SRC_BY_AB_250'] = df.src_bytes.map({1032:0,  283:1,  252:1,    0:0,  105:1,  303:0,   42:0,   45:0,  213:0,  285:1, 5050:0,\n",
    "        212:0,  184:0,  289:1,  291:1,  246:0,  175:1,  241:0,  293:1,  245:0,  249:0,  225:0,\n",
    "        305:1, 3894:0,  320:1,  162:1,  206:0,  353:1,    1:0})\n",
    "\n",
    "df['SRC_BY_AB_450'] = df.src_bytes.map({1032:0,  283:1,  252:1,    0:0,  105:0,  303:0,   42:0,   45:0,  213:1,  285:1, 5050:0,\n",
    "        212:1,  184:0,  289:1,  291:1,  246:1,  175:0,  241:1,  293:1,  245:1,  249:1,  225:1,\n",
    "        305:0, 3894:0,  320:0,  162:0,  206:1,  353:0,    1:0})\n",
    "\n",
    "\n",
    "df['SRC_BY_AB_650'] = df.src_bytes.map({1032:0,  283:0,  252:0,    0:0,  105:0,  303:0,   42:0,   45:0,  213:0,  285:0, 5050:0,\n",
    "        212:0,  184:0,  289:0,  291:0,  246:0,  175:0,  241:0,  293:0,  245:0,  249:0,  225:0,\n",
    "        305:0, 3894:0,  320:0,  162:0,  206:0,  353:0,    1:0})\n",
    "\n",
    "df['SRC_BY_AB_850'] = df.src_bytes.map({1032:0,  283:0,  252:0,    0:0,  105:0,  303:0,   42:0,   45:0,  213:0,  285:0, 5050:0,\n",
    "        212:0,  184:0,  289:0,  291:0,  246:0,  175:0,  241:0,  293:0,  245:0,  249:0,  225:0,\n",
    "        305:0, 3894:0,  320:0,  162:0,  206:0,  353:0,    1:0})\n",
    "\n",
    "df['SRC_BY_AB_1000'] = df.src_bytes.map({1032:1,  283:0,  252:0,    0:0,  105:0,  303:0,   42:0,   45:0,  213:0,  285:0, 5050:1,\n",
    "        212:0,  184:0,  289:0,  291:0,  246:0,  175:0,  241:0,  293:0,  245:0,  249:0,  225:0,\n",
    "        305:0, 3894:1,  320:0,  162:0,  206:0,  353:0,    1:0})\n",
    "\n"
   ]
  },
  {
   "cell_type": "code",
   "execution_count": 26,
   "metadata": {},
   "outputs": [],
   "source": [
    "del df['src_bytes']"
   ]
  },
  {
   "cell_type": "code",
   "execution_count": 27,
   "metadata": {},
   "outputs": [
    {
     "data": {
      "text/plain": [
       "Index(['dst_bytes', 'Wrong_fragment', 'serror_rate', 'rerror_rate', 'class',\n",
       "       'UDP', 'TCP', 'ICMP', 'private', 'http', 'ecr_i', 'SF', 'S1', 'REJ',\n",
       "       'S0', 'SRC_BY_BL_50', 'SRC_BY_AB_50', 'SRC_BY_AB_250', 'SRC_BY_AB_450',\n",
       "       'SRC_BY_AB_650', 'SRC_BY_AB_850', 'SRC_BY_AB_1000'],\n",
       "      dtype='object')"
      ]
     },
     "execution_count": 27,
     "metadata": {},
     "output_type": "execute_result"
    }
   ],
   "source": [
    "df.columns"
   ]
  },
  {
   "cell_type": "code",
   "execution_count": 28,
   "metadata": {},
   "outputs": [
    {
     "data": {
      "text/plain": [
       "array([    0,   903,  1422,   146,  1292,    42,   115,  4996,   145,\n",
       "        5200,   329,   341,   128,   721,   331,   753, 38352,   722,\n",
       "        1965,   634,   628,   188, 47582,   489,   105,   486,  2940,\n",
       "         209,  1401,   292,  1085,     1], dtype=int64)"
      ]
     },
     "execution_count": 28,
     "metadata": {},
     "output_type": "execute_result"
    }
   ],
   "source": [
    "df['dst_bytes'].unique()"
   ]
  },
  {
   "cell_type": "code",
   "execution_count": 29,
   "metadata": {},
   "outputs": [],
   "source": [
    "df['DST_BY_BL_50'] = df.dst_bytes.map({   0:1,   903:0,  1422:0,   146:0,  1292:0,    42:1,   115:0,  4996:0,   145:0,\n",
    "        5200:0,   329:0,   341:0,   128:0,   721:0,   331:0,   753:0, 38352:0,   722:0,\n",
    "        1965:0,   634:0,   628:0,   188:0, 47582:0,   489:0,   105:0,   486:0,  2940:0,\n",
    "         209:0,  1401:0,   292:0,  1085:0,     1:1})\n",
    "\n",
    "\n",
    "df['DST_BY_AB_50'] = df.dst_bytes.map({   0:0,   903:0,  1422:0,   146:1,  1292:0,    42:0,   115:1,  4996:0,   145:1,\n",
    "        5200:0,   329:0,   341:0,   128:1,   721:0,   331:0,   753:0, 38352:0,   722:0,\n",
    "        1965:0,   634:0,   628:0,   188:1, 47582:0,   489:0,   105:1,   486:0,  2940:0,\n",
    "         209:1,  1401:0,   292:1,  1085:0,     1:0})\n",
    "\n",
    "df['DST_BY_AB_250'] = df.dst_bytes.map({   0:0,   903:0,  1422:0,   146:0,  1292:0,    42:0,   115:0,  4996:0,   145:0,\n",
    "        5200:0,   329:1,   341:1,   128:0,   721:0,   331:1,   753:0, 38352:0,   722:0,\n",
    "        1965:0,   634:0,   628:0,   188:0, 47582:0,   489:0,   105:0,   486:0,  2940:0,\n",
    "         209:1,  1401:0,   292:1,  1085:0,     1:0})\n",
    "\n",
    "df['DST_BY_AB_450'] = df.dst_bytes.map({   0:0,   903:0,  1422:0,   146:0,  1292:0,    42:0,   115:0,  4996:0,   145:0,\n",
    "        5200:0,   329:0,   341:0,   128:0,   721:0,   331:0,   753:0, 38352:0,   722:0,\n",
    "        1965:0,   634:1,   628:1,   188:0, 47582:0,   489:1,   105:0,   486:1,  2940:0,\n",
    "         209:0,  1401:0,   292:0,  1085:0,     1:0})\n",
    "\n",
    "df['DST_BY_AB_650'] = df.dst_bytes.map({   0:0,   903:0,  1422:0,   146:0,  1292:0,    42:0,   115:0,  4996:0,   145:0,\n",
    "        5200:0,   329:0,   341:0,   128:0,   721:1,   331:0,   753:1, 38352:0,   722:1,\n",
    "        1965:0,   634:0,   628:0,   188:0, 47582:0,   489:0,   105:0,   486:0,  2940:0,\n",
    "         209:0,  1401:0,   292:0,  1085:0,     1:0})\n",
    "\n",
    "df['DST_BY_AB_850'] = df.dst_bytes.map({   0:0,   903:1,  1422:0,   146:0,  1292:0,    42:0,   115:0,  4996:0,   145:0,\n",
    "        5200:0,   329:0,   341:0,   128:0,   721:0,   331:0,   753:0, 38352:0,   722:0,\n",
    "        1965:0,   634:0,   628:0,   188:0, 47582:0,   489:0,   105:0,   486:0,  2940:0,\n",
    "         209:0,  1401:0,   292:0,  1085:0,     1:0})\n",
    "\n",
    "df['DST_BY_AB_1000'] = df.dst_bytes.map({   0:0,   903:0,  1422:1,   146:0,  1292:1,    42:0,   115:0,  4996:1,   145:0,\n",
    "        5200:1,   329:0,   341:0,   128:0,   721:0,   331:0,   753:0, 38352:1,   722:0,\n",
    "        1965:1,   634:0,   628:0,   188:0, 47582:1,   489:0,   105:0,   486:0,  2940:1,\n",
    "         209:0,  1401:0,   292:0,  1085:1,     1:0})\n",
    "\n"
   ]
  },
  {
   "cell_type": "code",
   "execution_count": 30,
   "metadata": {},
   "outputs": [
    {
     "data": {
      "text/plain": [
       "array([0, 1], dtype=int64)"
      ]
     },
     "execution_count": 30,
     "metadata": {},
     "output_type": "execute_result"
    }
   ],
   "source": [
    "df['DST_BY_AB_1000'].unique()"
   ]
  },
  {
   "cell_type": "code",
   "execution_count": 31,
   "metadata": {},
   "outputs": [],
   "source": [
    "del df['dst_bytes']"
   ]
  },
  {
   "cell_type": "code",
   "execution_count": 32,
   "metadata": {},
   "outputs": [],
   "source": [
    "del df['Wrong_fragment']\n",
    "del df['serror_rate']\n",
    "del df['rerror_rate']"
   ]
  },
  {
   "cell_type": "code",
   "execution_count": 33,
   "metadata": {},
   "outputs": [
    {
     "data": {
      "text/html": [
       "<div>\n",
       "<style scoped>\n",
       "    .dataframe tbody tr th:only-of-type {\n",
       "        vertical-align: middle;\n",
       "    }\n",
       "\n",
       "    .dataframe tbody tr th {\n",
       "        vertical-align: top;\n",
       "    }\n",
       "\n",
       "    .dataframe thead th {\n",
       "        text-align: right;\n",
       "    }\n",
       "</style>\n",
       "<table border=\"1\" class=\"dataframe\">\n",
       "  <thead>\n",
       "    <tr style=\"text-align: right;\">\n",
       "      <th></th>\n",
       "      <th>class</th>\n",
       "      <th>UDP</th>\n",
       "      <th>TCP</th>\n",
       "      <th>ICMP</th>\n",
       "      <th>private</th>\n",
       "      <th>http</th>\n",
       "      <th>ecr_i</th>\n",
       "      <th>SF</th>\n",
       "      <th>S1</th>\n",
       "      <th>REJ</th>\n",
       "      <th>...</th>\n",
       "      <th>SRC_BY_AB_650</th>\n",
       "      <th>SRC_BY_AB_850</th>\n",
       "      <th>SRC_BY_AB_1000</th>\n",
       "      <th>DST_BY_BL_50</th>\n",
       "      <th>DST_BY_AB_50</th>\n",
       "      <th>DST_BY_AB_250</th>\n",
       "      <th>DST_BY_AB_450</th>\n",
       "      <th>DST_BY_AB_650</th>\n",
       "      <th>DST_BY_AB_850</th>\n",
       "      <th>DST_BY_AB_1000</th>\n",
       "    </tr>\n",
       "  </thead>\n",
       "  <tbody>\n",
       "    <tr>\n",
       "      <th>0</th>\n",
       "      <td>smurf</td>\n",
       "      <td>0</td>\n",
       "      <td>1</td>\n",
       "      <td>0</td>\n",
       "      <td>0</td>\n",
       "      <td>0</td>\n",
       "      <td>1</td>\n",
       "      <td>1</td>\n",
       "      <td>0</td>\n",
       "      <td>0</td>\n",
       "      <td>...</td>\n",
       "      <td>0</td>\n",
       "      <td>0</td>\n",
       "      <td>1</td>\n",
       "      <td>1</td>\n",
       "      <td>0</td>\n",
       "      <td>0</td>\n",
       "      <td>0</td>\n",
       "      <td>0</td>\n",
       "      <td>0</td>\n",
       "      <td>0</td>\n",
       "    </tr>\n",
       "    <tr>\n",
       "      <th>1</th>\n",
       "      <td>smurf</td>\n",
       "      <td>0</td>\n",
       "      <td>1</td>\n",
       "      <td>0</td>\n",
       "      <td>0</td>\n",
       "      <td>0</td>\n",
       "      <td>1</td>\n",
       "      <td>1</td>\n",
       "      <td>0</td>\n",
       "      <td>0</td>\n",
       "      <td>...</td>\n",
       "      <td>0</td>\n",
       "      <td>0</td>\n",
       "      <td>1</td>\n",
       "      <td>1</td>\n",
       "      <td>0</td>\n",
       "      <td>0</td>\n",
       "      <td>0</td>\n",
       "      <td>0</td>\n",
       "      <td>0</td>\n",
       "      <td>0</td>\n",
       "    </tr>\n",
       "    <tr>\n",
       "      <th>2</th>\n",
       "      <td>smurf</td>\n",
       "      <td>0</td>\n",
       "      <td>1</td>\n",
       "      <td>0</td>\n",
       "      <td>0</td>\n",
       "      <td>0</td>\n",
       "      <td>1</td>\n",
       "      <td>1</td>\n",
       "      <td>0</td>\n",
       "      <td>0</td>\n",
       "      <td>...</td>\n",
       "      <td>0</td>\n",
       "      <td>0</td>\n",
       "      <td>1</td>\n",
       "      <td>1</td>\n",
       "      <td>0</td>\n",
       "      <td>0</td>\n",
       "      <td>0</td>\n",
       "      <td>0</td>\n",
       "      <td>0</td>\n",
       "      <td>0</td>\n",
       "    </tr>\n",
       "    <tr>\n",
       "      <th>3</th>\n",
       "      <td>smurf</td>\n",
       "      <td>0</td>\n",
       "      <td>1</td>\n",
       "      <td>0</td>\n",
       "      <td>0</td>\n",
       "      <td>0</td>\n",
       "      <td>1</td>\n",
       "      <td>1</td>\n",
       "      <td>0</td>\n",
       "      <td>0</td>\n",
       "      <td>...</td>\n",
       "      <td>0</td>\n",
       "      <td>0</td>\n",
       "      <td>1</td>\n",
       "      <td>1</td>\n",
       "      <td>0</td>\n",
       "      <td>0</td>\n",
       "      <td>0</td>\n",
       "      <td>0</td>\n",
       "      <td>0</td>\n",
       "      <td>0</td>\n",
       "    </tr>\n",
       "    <tr>\n",
       "      <th>4</th>\n",
       "      <td>smurf</td>\n",
       "      <td>0</td>\n",
       "      <td>1</td>\n",
       "      <td>0</td>\n",
       "      <td>0</td>\n",
       "      <td>0</td>\n",
       "      <td>1</td>\n",
       "      <td>1</td>\n",
       "      <td>0</td>\n",
       "      <td>0</td>\n",
       "      <td>...</td>\n",
       "      <td>0</td>\n",
       "      <td>0</td>\n",
       "      <td>1</td>\n",
       "      <td>1</td>\n",
       "      <td>0</td>\n",
       "      <td>0</td>\n",
       "      <td>0</td>\n",
       "      <td>0</td>\n",
       "      <td>0</td>\n",
       "      <td>0</td>\n",
       "    </tr>\n",
       "  </tbody>\n",
       "</table>\n",
       "<p>5 rows × 25 columns</p>\n",
       "</div>"
      ],
      "text/plain": [
       "   class  UDP  TCP  ICMP  private  http  ecr_i  SF  S1  REJ  ...  \\\n",
       "0  smurf    0    1     0        0     0      1   1   0    0  ...   \n",
       "1  smurf    0    1     0        0     0      1   1   0    0  ...   \n",
       "2  smurf    0    1     0        0     0      1   1   0    0  ...   \n",
       "3  smurf    0    1     0        0     0      1   1   0    0  ...   \n",
       "4  smurf    0    1     0        0     0      1   1   0    0  ...   \n",
       "\n",
       "   SRC_BY_AB_650  SRC_BY_AB_850  SRC_BY_AB_1000  DST_BY_BL_50  DST_BY_AB_50  \\\n",
       "0              0              0               1             1             0   \n",
       "1              0              0               1             1             0   \n",
       "2              0              0               1             1             0   \n",
       "3              0              0               1             1             0   \n",
       "4              0              0               1             1             0   \n",
       "\n",
       "   DST_BY_AB_250  DST_BY_AB_450  DST_BY_AB_650  DST_BY_AB_850  DST_BY_AB_1000  \n",
       "0              0              0              0              0               0  \n",
       "1              0              0              0              0               0  \n",
       "2              0              0              0              0               0  \n",
       "3              0              0              0              0               0  \n",
       "4              0              0              0              0               0  \n",
       "\n",
       "[5 rows x 25 columns]"
      ]
     },
     "execution_count": 33,
     "metadata": {},
     "output_type": "execute_result"
    }
   ],
   "source": [
    "df.head()"
   ]
  },
  {
   "cell_type": "code",
   "execution_count": 34,
   "metadata": {},
   "outputs": [
    {
     "data": {
      "text/plain": [
       "Index(['class', 'UDP', 'TCP', 'ICMP', 'private', 'http', 'ecr_i', 'SF', 'S1',\n",
       "       'REJ', 'S0', 'SRC_BY_BL_50', 'SRC_BY_AB_50', 'SRC_BY_AB_250',\n",
       "       'SRC_BY_AB_450', 'SRC_BY_AB_650', 'SRC_BY_AB_850', 'SRC_BY_AB_1000',\n",
       "       'DST_BY_BL_50', 'DST_BY_AB_50', 'DST_BY_AB_250', 'DST_BY_AB_450',\n",
       "       'DST_BY_AB_650', 'DST_BY_AB_850', 'DST_BY_AB_1000'],\n",
       "      dtype='object')"
      ]
     },
     "execution_count": 34,
     "metadata": {},
     "output_type": "execute_result"
    }
   ],
   "source": [
    "df.columns"
   ]
  },
  {
   "cell_type": "code",
   "execution_count": 35,
   "metadata": {},
   "outputs": [],
   "source": [
    "l1=['SRC_BY_BL_50', 'SRC_BY_AB_50', 'SRC_BY_AB_250','SRC_BY_AB_450', 'SRC_BY_AB_650', 'SRC_BY_AB_850', 'SRC_BY_AB_1000']"
   ]
  },
  {
   "cell_type": "code",
   "execution_count": 36,
   "metadata": {},
   "outputs": [],
   "source": [
    "l2=['DST_BY_BL_50', 'DST_BY_AB_50', 'DST_BY_AB_250', 'DST_BY_AB_450','DST_BY_AB_650', 'DST_BY_AB_850', 'DST_BY_AB_1000']"
   ]
  },
  {
   "cell_type": "code",
   "execution_count": 37,
   "metadata": {},
   "outputs": [],
   "source": [
    "l3=['UDP', 'TCP', 'ICMP']"
   ]
  },
  {
   "cell_type": "code",
   "execution_count": 38,
   "metadata": {},
   "outputs": [],
   "source": [
    "l4=['SF', 'S1', 'REJ', 'S0']"
   ]
  },
  {
   "cell_type": "code",
   "execution_count": 39,
   "metadata": {},
   "outputs": [],
   "source": [
    "l5=['private','http', 'ecr_i']"
   ]
  },
  {
   "cell_type": "code",
   "execution_count": 40,
   "metadata": {},
   "outputs": [],
   "source": [
    "l6=['UDP', 'TCP', 'ICMP', 'private', 'http', 'ecr_i', 'SF', 'S1','REJ', 'S0', 'SRC_BY_BL_50', 'SRC_BY_AB_50', 'SRC_BY_AB_250',\n",
    "'SRC_BY_AB_450', 'SRC_BY_AB_650', 'SRC_BY_AB_850', 'SRC_BY_AB_1000',\n",
    "'DST_BY_BL_50', 'DST_BY_AB_50', 'DST_BY_AB_250', 'DST_BY_AB_450','DST_BY_AB_650', 'DST_BY_AB_850', 'DST_BY_AB_1000']"
   ]
  },
  {
   "cell_type": "code",
   "execution_count": 41,
   "metadata": {},
   "outputs": [
    {
     "data": {
      "text/plain": [
       "array(['smurf', 'perl', 'xlock', 'xsnoop', 'xterm', 'satan', 'neptune',\n",
       "       'nmap', 'back', 'apache2', 'multihop', 'worm', 'buffer overflow',\n",
       "       'sql attack', 'saint', 'Nmap', 'ipsweep'], dtype=object)"
      ]
     },
     "execution_count": 41,
     "metadata": {},
     "output_type": "execute_result"
    }
   ],
   "source": [
    "df['class'].unique()"
   ]
  },
  {
   "cell_type": "code",
   "execution_count": 42,
   "metadata": {},
   "outputs": [],
   "source": [
    "decision = ['smurf', 'perl', 'xlock', 'xsnoop', 'xterm', 'satan', 'neptune','nmap', 'back', 'apache2', 'multihop', 'worm',\n",
    "'buffer overflow','sql attack', 'saint', 'Nmap', 'ipsweep']"
   ]
  },
  {
   "cell_type": "code",
   "execution_count": 43,
   "metadata": {},
   "outputs": [],
   "source": [
    "l7=[]\n",
    "for x in range(0,len(l6)):\n",
    "    l7.append(0)"
   ]
  },
  {
   "cell_type": "code",
   "execution_count": 44,
   "metadata": {},
   "outputs": [
    {
     "data": {
      "text/plain": [
       "array(['smurf', 'perl', 'xlock', 'xsnoop', 'xterm', 'satan', 'neptune',\n",
       "       'nmap', 'back', 'apache2', 'multihop', 'worm', 'buffer overflow',\n",
       "       'sql attack', 'saint', 'Nmap', 'ipsweep'], dtype=object)"
      ]
     },
     "execution_count": 44,
     "metadata": {},
     "output_type": "execute_result"
    }
   ],
   "source": [
    "df['class'].unique()"
   ]
  },
  {
   "cell_type": "code",
   "execution_count": 45,
   "metadata": {},
   "outputs": [],
   "source": [
    "df.replace({'class':{'smurf':0, 'perl':1, 'xlock':2, 'xsnoop':3, 'xterm':4, 'satan':5, 'neptune':6,\n",
    "       'nmap':7, 'back':8, 'apache2':9, 'multihop':10, 'worm':11, 'buffer overflow':12,\n",
    "       'sql attack':13, 'saint':14, 'Nmap':15, 'ipsweep':16}},inplace=True)"
   ]
  },
  {
   "cell_type": "code",
   "execution_count": 46,
   "metadata": {},
   "outputs": [],
   "source": [
    "import numpy as np"
   ]
  },
  {
   "cell_type": "code",
   "execution_count": 47,
   "metadata": {},
   "outputs": [
    {
     "data": {
      "text/plain": [
       "array([ 0,  0,  0,  0,  0,  0,  0,  0,  0,  0,  0,  0,  0,  0,  0,  0,  0,\n",
       "        0,  0,  0,  0,  0,  0,  0,  0,  1,  1,  1,  1,  1,  1,  1,  1,  1,\n",
       "        1,  1,  1,  1,  1,  1,  1,  1,  1,  1,  1,  1,  1,  1,  1,  1,  1,\n",
       "        2,  2,  2,  2,  2,  2,  2,  2,  2,  2,  2,  2,  2,  2,  2,  2,  2,\n",
       "        2,  2,  2,  2,  2,  2,  2,  3,  3,  3,  3,  3,  3,  3,  3,  3,  3,\n",
       "        3,  3,  3,  3,  3,  3,  3,  3,  3,  3,  3,  3,  3,  3,  3,  4,  4,\n",
       "        4,  4,  4,  4,  4,  4,  4,  4,  4,  4,  4,  4,  4,  4,  4,  4,  4,\n",
       "        4,  4,  4,  4,  4,  4,  5,  5,  5,  5,  5,  5,  5,  5,  5,  5,  5,\n",
       "        5,  5,  5,  5,  5,  5,  5,  5,  5,  5,  5,  5,  5,  6,  6,  6,  6,\n",
       "        6,  6,  6,  6,  6,  6,  6,  6,  6,  6,  6,  6,  6,  6,  6,  6,  6,\n",
       "        6,  6,  6,  6,  6,  7,  7,  7,  7,  7,  7,  7,  7,  7,  7,  7,  7,\n",
       "        7,  7,  7,  7,  7,  7,  7,  7,  7,  7,  7,  7,  7,  8,  8,  8,  8,\n",
       "        8,  8,  8,  8,  8,  8,  9,  9,  9,  9,  9,  9,  9,  9,  9,  9,  9,\n",
       "        9,  9,  9,  9,  9,  9,  9,  9,  9, 10, 10, 10, 10, 10, 10, 10, 10,\n",
       "       10, 10, 11, 11, 11, 11, 11, 11, 11, 11, 11, 11, 12, 12, 12, 12, 12,\n",
       "       12, 12, 12, 12, 12, 13, 13, 13, 13, 13, 13, 13, 13, 13, 13, 14, 14,\n",
       "       14, 14, 14, 14, 14, 14, 14, 14, 15, 15, 15, 15, 15, 15, 15, 15, 15,\n",
       "       16, 16, 16, 16, 16, 16, 16, 16, 16, 16, 16, 16], dtype=int64)"
      ]
     },
     "execution_count": 47,
     "metadata": {},
     "output_type": "execute_result"
    }
   ],
   "source": [
    "Xd= df[l6]\n",
    "\n",
    "\n",
    "yd = df[[\"class\"]]\n",
    "np.ravel(yd)"
   ]
  },
  {
   "cell_type": "code",
   "execution_count": 48,
   "metadata": {},
   "outputs": [
    {
     "data": {
      "text/plain": [
       "array([ 0,  0,  0,  0,  0,  0,  0,  0,  0,  0,  0,  0,  0,  0,  0,  0,  0,\n",
       "        0,  0,  0,  0,  0,  0,  0,  0,  1,  1,  1,  1,  1,  1,  1,  1,  1,\n",
       "        1,  1,  1,  1,  1,  1,  1,  1,  1,  1,  1,  1,  1,  1,  1,  1,  1,\n",
       "        2,  2,  2,  2,  2,  2,  2,  2,  2,  2,  2,  2,  2,  2,  2,  2,  2,\n",
       "        2,  2,  2,  2,  2,  2,  2,  3,  3,  3,  3,  3,  3,  3,  3,  3,  3,\n",
       "        3,  3,  3,  3,  3,  3,  3,  3,  3,  3,  3,  3,  3,  3,  3,  4,  4,\n",
       "        4,  4,  4,  4,  4,  4,  4,  4,  4,  4,  4,  4,  4,  4,  4,  4,  4,\n",
       "        4,  4,  4,  4,  4,  4,  5,  5,  5,  5,  5,  5,  5,  5,  5,  5,  5,\n",
       "        5,  5,  5,  5,  5,  5,  5,  5,  5,  5,  5,  5,  5,  6,  6,  6,  6,\n",
       "        6,  6,  6,  6,  6,  6,  6,  6,  6,  6,  6,  6,  6,  6,  6,  6,  6,\n",
       "        6,  6,  6,  6,  6,  7,  7,  7,  7,  7,  7,  7,  7,  7,  7,  7,  7,\n",
       "        7,  7,  7,  7,  7,  7,  7,  7,  7,  7,  7,  7,  7,  8,  8,  8,  8,\n",
       "        8,  8,  8,  8,  8,  8,  9,  9,  9,  9,  9,  9,  9,  9,  9,  9,  9,\n",
       "        9,  9,  9,  9,  9,  9,  9,  9,  9, 10, 10, 10, 10, 10, 10, 10, 10,\n",
       "       10, 10, 11, 11, 11, 11, 11, 11, 11, 11, 11, 11, 12, 12, 12, 12, 12,\n",
       "       12, 12, 12, 12, 12, 13, 13, 13, 13, 13, 13, 13, 13, 13, 13, 14, 14,\n",
       "       14, 14, 14, 14, 14, 14, 14, 14, 15, 15, 15, 15, 15, 15, 15, 15, 15,\n",
       "       16, 16, 16, 16, 16, 16, 16, 16, 16, 16, 16, 16], dtype=int64)"
      ]
     },
     "execution_count": 48,
     "metadata": {},
     "output_type": "execute_result"
    }
   ],
   "source": [
    "import numpy as np\n",
    "X_testd= df[l6]\n",
    "y_testd = df[[\"class\"]]\n",
    "np.ravel(y_testd)"
   ]
  },
  {
   "cell_type": "code",
   "execution_count": 49,
   "metadata": {},
   "outputs": [],
   "source": [
    "from sklearn.svm import SVC\n",
    "from sklearn.model_selection import cross_val_score\n",
    "from sklearn.metrics import accuracy_score"
   ]
  },
  {
   "cell_type": "code",
   "execution_count": 50,
   "metadata": {},
   "outputs": [],
   "source": [
    "def over():\n",
    "  \n",
    "   \n",
    "    clf = SVC()\n",
    "\n",
    "    gnb=clf.fit(Xd,np.ravel(yd))\n",
    "\n",
    "    # calculating accuracy-------------------------------------------------------------------\n",
    "    from sklearn.metrics import accuracy_score\n",
    "    y_predd=gnb.predict(X_testd)\n",
    "    print(accuracy_score(y_testd, y_predd))\n",
    "    \n",
    "    print(accuracy_score(y_testd, y_predd,normalize=False))\n",
    "   \n",
    "    # -----------------------------------------------------\n",
    "    terms = [src.get(),dst.get(),prt.get(),fl.get(),ser.get()]\n",
    "\n",
    "    \n",
    "    for k in range(0,len(l6)):\n",
    "        for z in terms:\n",
    "            if(z==l6[k]):\n",
    "                l7[k]=1\n",
    "\n",
    "    inputtest = [l7]\n",
    "    predict = gnb.predict(inputtest)\n",
    "    predicted=predict[0]\n",
    "\n",
    "    h='no'\n",
    "    for a in range(0,len(decision)):\n",
    "        if(predicted == a):\n",
    "            h='yes'\n",
    "            break\n",
    "\n",
    "    if (h=='yes'):\n",
    "        t1.delete(\"1.0\", END)\n",
    "        t1.insert(END, decision[a])\n",
    "    else:\n",
    "        t1.delete(\"1.0\", END)\n",
    "        t1.insert(END, \"Not Found\")\n",
    "\n",
    "\n"
   ]
  },
  {
   "cell_type": "code",
   "execution_count": 51,
   "metadata": {},
   "outputs": [
    {
     "data": {
      "text/plain": [
       "''"
      ]
     },
     "execution_count": 51,
     "metadata": {},
     "output_type": "execute_result"
    }
   ],
   "source": [
    "\n",
    "root1 = Tk()\n",
    "root1.title(\"Prediction of Network Attacks\")\n",
    "#root1.configure(background='black')"
   ]
  },
  {
   "cell_type": "code",
   "execution_count": 52,
   "metadata": {},
   "outputs": [
    {
     "data": {
      "text/plain": [
       "1"
      ]
     },
     "execution_count": 52,
     "metadata": {},
     "output_type": "execute_result"
    }
   ],
   "source": [
    "root = Canvas(root1,width=1620,height=1800)\n",
    "root.pack()\n",
    "photo = PhotoImage(file ='im3.png')\n",
    "root.create_image(0,0,image=photo,anchor=NW)\n"
   ]
  },
  {
   "cell_type": "code",
   "execution_count": 53,
   "metadata": {},
   "outputs": [],
   "source": [
    "src = StringVar()\n",
    "src.set(None)\n",
    "\n",
    "dst = StringVar()\n",
    "dst.set(None)\n",
    "\n",
    "prt = StringVar()\n",
    "prt.set(None)\n",
    "\n",
    "fl = StringVar()\n",
    "fl.set(None)\n",
    "\n",
    "ser = StringVar()\n",
    "ser.set(None)"
   ]
  },
  {
   "cell_type": "code",
   "execution_count": 54,
   "metadata": {},
   "outputs": [],
   "source": [
    "# Heading\n",
    "w2 = Label(root, justify=LEFT, text=\"Network attack prediction \", fg=\"red\", bg=\"white\")\n",
    "w2.config(font=(\"Elephant\", 20))\n",
    "w2.grid(row=1, column=0, columnspan=2, padx=100)\n",
    "w2 = Label(root, justify=LEFT, text=\"DoS, R2L, U2R and Probe Types \", fg=\"blue\")\n",
    "w2.config(font=(\"Aharoni\", 15))\n",
    "w2.grid(row=2, column=0, columnspan=2, padx=100)\n",
    "\n"
   ]
  },
  {
   "cell_type": "code",
   "execution_count": 55,
   "metadata": {},
   "outputs": [],
   "source": [
    "# labels\n",
    "srcLb = Label(root, text=\"Source File Size(in BY):\")\n",
    "srcLb.grid(row=6, column=0, pady=15, sticky=W)\n",
    "\n",
    "dstLb = Label(root, text=\"Destination File Size(in BY):\")\n",
    "dstLb.grid(row=7, column=0, pady=15, sticky=W)\n",
    "\n",
    "prtLb = Label(root, text=\"Protocol Type:\")\n",
    "prtLb.grid(row=8, column=0, pady=15, sticky=W)\n",
    "\n",
    "flLb = Label(root, text=\"Flag Type:\")\n",
    "flLb.grid(row=9, column=0, pady=15, sticky=W)\n",
    "\n",
    "serLb = Label(root, text=\"Select services:\")\n",
    "serLb.grid(row=10, column=0, pady=15, sticky=W)\n"
   ]
  },
  {
   "cell_type": "code",
   "execution_count": 56,
   "metadata": {},
   "outputs": [],
   "source": [
    "\n",
    "lrdLb = Label(root, text=\"Attack_Type\", fg=\"white\", bg=\"red\")\n",
    "lrdLb.grid(row=13, column=0, pady=10, sticky=W)\n"
   ]
  },
  {
   "cell_type": "code",
   "execution_count": 57,
   "metadata": {},
   "outputs": [],
   "source": [
    "# entries\n",
    "OPTIONSsrc = sorted(l1)\n",
    "OPTIONSdst = sorted(l2)\n",
    "OPTIONSprt = sorted(l3)\n",
    "OPTIONSfl = sorted(l4)\n",
    "OPTIONSser = sorted(l5)"
   ]
  },
  {
   "cell_type": "code",
   "execution_count": 58,
   "metadata": {},
   "outputs": [],
   "source": [
    "srcEn = OptionMenu(root, src,*OPTIONSsrc)\n",
    "srcEn.grid(row=6, column=1)\n",
    "\n",
    "dstEn = OptionMenu(root, dst,*OPTIONSdst)\n",
    "dstEn.grid(row=7, column=1)\n",
    "\n",
    "prtEn = OptionMenu(root, prt,*OPTIONSprt)\n",
    "prtEn.grid(row=8, column=1)\n",
    "\n",
    "flEn = OptionMenu(root, fl,*OPTIONSfl)\n",
    "flEn.grid(row=9, column=1)\n",
    "\n",
    "serEn = OptionMenu(root, ser,*OPTIONSser)\n",
    "serEn.grid(row=10, column=1)\n"
   ]
  },
  {
   "cell_type": "code",
   "execution_count": 59,
   "metadata": {},
   "outputs": [],
   "source": [
    "def clear_display_result():\n",
    "    t1.delete('1.0',END)"
   ]
  },
  {
   "cell_type": "code",
   "execution_count": 60,
   "metadata": {},
   "outputs": [],
   "source": [
    "lrd = Button(root, text=\"Check Result\", command=over,bg=\"cyan\",fg=\"green\")\n",
    "lrd.grid(row=13, column=3,padx=10)\n",
    "b = Button(root, text=\"Reset\", command=clear_display_result,bg=\"red\",fg=\"white\")\n",
    "b.grid(row=5, column=3,padx=10)"
   ]
  },
  {
   "cell_type": "code",
   "execution_count": null,
   "metadata": {},
   "outputs": [
    {
     "name": "stdout",
     "output_type": "stream",
     "text": [
      "0.4950166112956811\n",
      "149\n",
      "0.4950166112956811\n",
      "149\n",
      "0.4950166112956811\n",
      "149\n",
      "0.4950166112956811\n",
      "149\n",
      "0.4950166112956811\n",
      "149\n",
      "0.4950166112956811\n",
      "149\n",
      "0.4950166112956811\n",
      "149\n",
      "0.4950166112956811\n",
      "149\n",
      "0.4950166112956811\n",
      "149\n",
      "0.4950166112956811\n",
      "149\n",
      "0.4950166112956811\n",
      "149\n",
      "0.4950166112956811\n",
      "149\n",
      "0.4950166112956811\n",
      "149\n"
     ]
    }
   ],
   "source": [
    "t1 = Text(root, height=1, width=40,bg=\"orange\",fg=\"black\")\n",
    "t1.grid(row=13, column=1 , padx=10)\n",
    "root1.mainloop()"
   ]
  },
  {
   "cell_type": "code",
   "execution_count": null,
   "metadata": {},
   "outputs": [],
   "source": []
  },
  {
   "cell_type": "code",
   "execution_count": null,
   "metadata": {},
   "outputs": [],
   "source": []
  }
 ],
 "metadata": {
  "kernelspec": {
   "display_name": "Python 3",
   "language": "python",
   "name": "python3"
  },
  "language_info": {
   "codemirror_mode": {
    "name": "ipython",
    "version": 3
   },
   "file_extension": ".py",
   "mimetype": "text/x-python",
   "name": "python",
   "nbconvert_exporter": "python",
   "pygments_lexer": "ipython3",
   "version": "3.8.8"
  }
 },
 "nbformat": 4,
 "nbformat_minor": 4
}
